{
 "cells": [
  {
   "cell_type": "markdown",
   "source": [
    "# Intro to Python"
   ],
   "metadata": {
    "collapsed": false
   }
  },
  {
   "cell_type": "markdown",
   "source": [
    "## Hello world\n",
    "We will use the print() function to print our first python program: hello world.\n",
    "Here, 'hello world' is a string, a sequence of characters. In Python, strings are enclosed in single quotes, double quotes, or triple quotes."
   ],
   "metadata": {
    "collapsed": false
   }
  },
  {
   "cell_type": "code",
   "execution_count": 3,
   "metadata": {
    "collapsed": true
   },
   "outputs": [
    {
     "name": "stdout",
     "output_type": "stream",
     "text": [
      "Hello world\n",
      "Hello world\n",
      "Hello\n",
      "\n",
      "world\n"
     ]
    }
   ],
   "source": [
    "print('Hello world')\n",
    "print(\"Hello world\")\n",
    "# triple quotes allows the string to span multiple lines\n",
    "print(\"\"\"Hello\n",
    "\n",
    "world\"\"\")"
   ]
  },
  {
   "cell_type": "markdown",
   "source": [
    "## Comments\n",
    "Comments are very important while writing a program. They explain the code in each lines for programmers to better understand a program. In Python, we use the hash (#) symbol to start writing a comment. Python Interpreter ignores comments during execution.\n",
    "\n",
    "(#) for one line\n",
    "We can have comments that extend up to multiple lines. One way is to use the hash (#) symbol at the beginning of each line.\n",
    "\n",
    "(''' ''') for multiple lines\n",
    "Another way of doing this is to use triple quotes, either ''' or \"\"\"."
   ],
   "metadata": {
    "collapsed": false
   }
  },
  {
   "cell_type": "code",
   "execution_count": 5,
   "outputs": [
    {
     "name": "stdout",
     "output_type": "stream",
     "text": [
      "hello world\n"
     ]
    }
   ],
   "source": [
    "print(\"hello world\") # this is a comment"
   ],
   "metadata": {
    "collapsed": false,
    "pycharm": {
     "name": "#%%\n"
    }
   }
  },
  {
   "cell_type": "code",
   "execution_count": null,
   "outputs": [],
   "source": [
    "\"\"\"\n",
    "triple quotes for\n",
    "multiple\n",
    "lines\n",
    "\"\"\"\n",
    "\n",
    "print(\"Hello world\")"
   ],
   "metadata": {
    "collapsed": false,
    "pycharm": {
     "name": "#%%\n"
    }
   }
  },
  {
   "cell_type": "markdown",
   "source": [
    "## Packages and modules"
   ],
   "metadata": {
    "collapsed": false
   }
  },
  {
   "cell_type": "markdown",
   "source": [
    "Python has packages and modules. A module is a file containing Python code. A package is like a directory that contains sub-packages and modules. A library contains multiple modules.\n",
    "\n",
    "As our application program grows larger in size, with a lot of modules, we place similar modules in one package and different modules in different packages. This makes a project (program) easy to manage and conceptually more clear.\n",
    "\n",
    "Python package can have sub-packages and modules. To use these packages and modules in Python:\n",
    "\n",
    "import\n",
    "from ... import ..."
   ],
   "metadata": {
    "collapsed": false
   }
  },
  {
   "cell_type": "code",
   "execution_count": 6,
   "outputs": [
    {
     "data": {
      "text/plain": "'C:\\\\Users\\\\Karol Chlasta\\\\PycharmProjects\\\\KU-PyML\\\\notebooks'"
     },
     "execution_count": 6,
     "metadata": {},
     "output_type": "execute_result"
    }
   ],
   "source": [
    "import os # import os module\n",
    "os.getcwd() # get the current working directory"
   ],
   "metadata": {
    "collapsed": false,
    "pycharm": {
     "name": "#%%\n"
    }
   }
  },
  {
   "cell_type": "code",
   "execution_count": null,
   "outputs": [],
   "source": [],
   "metadata": {
    "collapsed": false,
    "pycharm": {
     "name": "#%%\n"
    }
   }
  }
 ],
 "metadata": {
  "kernelspec": {
   "display_name": "Python 3",
   "language": "python",
   "name": "python3"
  },
  "language_info": {
   "codemirror_mode": {
    "name": "ipython",
    "version": 2
   },
   "file_extension": ".py",
   "mimetype": "text/x-python",
   "name": "python",
   "nbconvert_exporter": "python",
   "pygments_lexer": "ipython2",
   "version": "2.7.6"
  }
 },
 "nbformat": 4,
 "nbformat_minor": 0
}